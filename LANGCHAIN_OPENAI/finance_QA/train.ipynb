{
 "cells": [
  {
   "cell_type": "code",
   "execution_count": 2,
   "metadata": {},
   "outputs": [],
   "source": [
    "from langchain.document_loaders import TextLoader"
   ]
  },
  {
   "cell_type": "code",
   "execution_count": 3,
   "metadata": {},
   "outputs": [
    {
     "name": "stdout",
     "output_type": "stream",
     "text": [
      "Collecting unstructured\n",
      "  Downloading unstructured-0.11.5-py3-none-any.whl (1.7 MB)\n",
      "     ---------------------------------------- 1.7/1.7 MB 3.8 MB/s eta 0:00:00\n",
      "Collecting libmagic\n",
      "  Downloading libmagic-1.0.tar.gz (3.7 kB)\n",
      "  Preparing metadata (setup.py): started\n",
      "  Preparing metadata (setup.py): finished with status 'done'\n",
      "Collecting python-magic-bin\n",
      "  Downloading python_magic_bin-0.4.14-py2.py3-none-win_amd64.whl (409 kB)\n",
      "     -------------------------------------- 409.3/409.3 kB 4.2 MB/s eta 0:00:00\n",
      "Collecting lxml\n",
      "  Using cached lxml-4.9.3-cp310-cp310-win_amd64.whl (3.8 MB)\n",
      "Collecting backoff\n",
      "  Downloading backoff-2.2.1-py3-none-any.whl (15 kB)\n",
      "Collecting emoji\n",
      "  Downloading emoji-2.9.0-py2.py3-none-any.whl (397 kB)\n",
      "     -------------------------------------- 397.5/397.5 kB 8.2 MB/s eta 0:00:00\n",
      "Requirement already satisfied: numpy in d:\\data science\\langchai_openai\\myenv\\lib\\site-packages (from unstructured) (1.26.2)\n",
      "Collecting rapidfuzz\n",
      "  Downloading rapidfuzz-3.5.2-cp310-cp310-win_amd64.whl (1.7 MB)\n",
      "     ---------------------------------------- 1.7/1.7 MB 6.8 MB/s eta 0:00:00\n",
      "Collecting python-magic\n",
      "  Using cached python_magic-0.4.27-py2.py3-none-any.whl (13 kB)\n",
      "Collecting tabulate\n",
      "  Downloading tabulate-0.9.0-py3-none-any.whl (35 kB)\n",
      "Requirement already satisfied: dataclasses-json in d:\\data science\\langchai_openai\\myenv\\lib\\site-packages (from unstructured) (0.6.3)\n",
      "Collecting python-iso639\n",
      "  Downloading python_iso639-2023.12.11-py3-none-any.whl (275 kB)\n",
      "     -------------------------------------- 275.1/275.1 kB 8.5 MB/s eta 0:00:00\n",
      "Requirement already satisfied: requests in d:\\data science\\langchai_openai\\myenv\\lib\\site-packages (from unstructured) (2.31.0)\n",
      "Collecting wrapt\n",
      "  Downloading wrapt-1.16.0-cp310-cp310-win_amd64.whl (37 kB)\n",
      "Collecting langdetect\n",
      "  Downloading langdetect-1.0.9.tar.gz (981 kB)\n",
      "     ------------------------------------- 981.5/981.5 kB 12.5 MB/s eta 0:00:00\n",
      "  Preparing metadata (setup.py): started\n",
      "  Preparing metadata (setup.py): finished with status 'done'\n",
      "Requirement already satisfied: typing-extensions in d:\\data science\\langchai_openai\\myenv\\lib\\site-packages (from unstructured) (4.9.0)\n",
      "Collecting unstructured-client\n",
      "  Downloading unstructured_client-0.15.0-py3-none-any.whl (20 kB)\n",
      "Collecting nltk\n",
      "  Downloading nltk-3.8.1-py3-none-any.whl (1.5 MB)\n",
      "     ---------------------------------------- 1.5/1.5 MB 19.2 MB/s eta 0:00:00\n",
      "Collecting beautifulsoup4\n",
      "  Using cached beautifulsoup4-4.12.2-py3-none-any.whl (142 kB)\n",
      "Collecting filetype\n",
      "  Downloading filetype-1.2.0-py2.py3-none-any.whl (19 kB)\n",
      "Collecting chardet\n",
      "  Downloading chardet-5.2.0-py3-none-any.whl (199 kB)\n",
      "     ------------------------------------- 199.4/199.4 kB 12.6 MB/s eta 0:00:00\n",
      "Collecting soupsieve>1.2\n",
      "  Using cached soupsieve-2.5-py3-none-any.whl (36 kB)\n",
      "Requirement already satisfied: typing-inspect<1,>=0.4.0 in d:\\data science\\langchai_openai\\myenv\\lib\\site-packages (from dataclasses-json->unstructured) (0.9.0)\n",
      "Requirement already satisfied: marshmallow<4.0.0,>=3.18.0 in d:\\data science\\langchai_openai\\myenv\\lib\\site-packages (from dataclasses-json->unstructured) (3.20.1)\n",
      "Requirement already satisfied: six in d:\\data science\\langchai_openai\\myenv\\lib\\site-packages (from langdetect->unstructured) (1.16.0)\n",
      "Requirement already satisfied: tqdm in d:\\data science\\langchai_openai\\myenv\\lib\\site-packages (from nltk->unstructured) (4.66.1)\n",
      "Collecting joblib\n",
      "  Downloading joblib-1.3.2-py3-none-any.whl (302 kB)\n",
      "     ------------------------------------- 302.2/302.2 kB 19.5 MB/s eta 0:00:00\n",
      "Requirement already satisfied: click in d:\\data science\\langchai_openai\\myenv\\lib\\site-packages (from nltk->unstructured) (8.1.7)\n",
      "Requirement already satisfied: regex>=2021.8.3 in d:\\data science\\langchai_openai\\myenv\\lib\\site-packages (from nltk->unstructured) (2023.10.3)\n",
      "Requirement already satisfied: certifi>=2017.4.17 in d:\\data science\\langchai_openai\\myenv\\lib\\site-packages (from requests->unstructured) (2023.11.17)\n",
      "Requirement already satisfied: charset-normalizer<4,>=2 in d:\\data science\\langchai_openai\\myenv\\lib\\site-packages (from requests->unstructured) (3.3.2)\n",
      "Requirement already satisfied: urllib3<3,>=1.21.1 in d:\\data science\\langchai_openai\\myenv\\lib\\site-packages (from requests->unstructured) (2.1.0)\n",
      "Requirement already satisfied: idna<4,>=2.5 in d:\\data science\\langchai_openai\\myenv\\lib\\site-packages (from requests->unstructured) (3.6)\n",
      "Requirement already satisfied: mypy-extensions>=1.0.0 in d:\\data science\\langchai_openai\\myenv\\lib\\site-packages (from unstructured-client->unstructured) (1.0.0)\n",
      "Collecting jsonpath-python>=1.0.6\n",
      "  Downloading jsonpath_python-1.0.6-py3-none-any.whl (7.6 kB)\n",
      "Requirement already satisfied: python-dateutil>=2.8.2 in d:\\data science\\langchai_openai\\myenv\\lib\\site-packages (from unstructured-client->unstructured) (2.8.2)\n",
      "Requirement already satisfied: packaging>=23.1 in d:\\data science\\langchai_openai\\myenv\\lib\\site-packages (from unstructured-client->unstructured) (23.2)\n",
      "Requirement already satisfied: colorama in d:\\data science\\langchai_openai\\myenv\\lib\\site-packages (from click->nltk->unstructured) (0.4.6)\n",
      "Using legacy 'setup.py install' for libmagic, since package 'wheel' is not installed.\n",
      "Using legacy 'setup.py install' for langdetect, since package 'wheel' is not installed.\n",
      "Installing collected packages: python-magic-bin, libmagic, filetype, wrapt, tabulate, soupsieve, rapidfuzz, python-magic, python-iso639, lxml, langdetect, jsonpath-python, joblib, emoji, chardet, backoff, nltk, beautifulsoup4, unstructured-client, unstructured\n",
      "  Running setup.py install for libmagic: started\n",
      "  Running setup.py install for libmagic: finished with status 'done'\n",
      "  Running setup.py install for langdetect: started\n",
      "  Running setup.py install for langdetect: finished with status 'done'\n",
      "Successfully installed backoff-2.2.1 beautifulsoup4-4.12.2 chardet-5.2.0 emoji-2.9.0 filetype-1.2.0 joblib-1.3.2 jsonpath-python-1.0.6 langdetect-1.0.9 libmagic-1.0 lxml-4.9.3 nltk-3.8.1 python-iso639-2023.12.11 python-magic-0.4.27 python-magic-bin-0.4.14 rapidfuzz-3.5.2 soupsieve-2.5 tabulate-0.9.0 unstructured-0.11.5 unstructured-client-0.15.0 wrapt-1.16.0\n"
     ]
    },
    {
     "name": "stderr",
     "output_type": "stream",
     "text": [
      "\n",
      "[notice] A new release of pip available: 22.2.1 -> 23.3.2\n",
      "[notice] To update, run: python.exe -m pip install --upgrade pip\n"
     ]
    }
   ],
   "source": [
    "!pip3 install unstructured libmagic python-magic-bin\n"
   ]
  },
  {
   "cell_type": "code",
   "execution_count": null,
   "metadata": {},
   "outputs": [],
   "source": [
    "from langchain.document_loaders import UnstructuredURLLoader"
   ]
  }
 ],
 "metadata": {
  "kernelspec": {
   "display_name": "myenv",
   "language": "python",
   "name": "python3"
  },
  "language_info": {
   "codemirror_mode": {
    "name": "ipython",
    "version": 3
   },
   "file_extension": ".py",
   "mimetype": "text/x-python",
   "name": "python",
   "nbconvert_exporter": "python",
   "pygments_lexer": "ipython3",
   "version": "3.10.6"
  }
 },
 "nbformat": 4,
 "nbformat_minor": 2
}
